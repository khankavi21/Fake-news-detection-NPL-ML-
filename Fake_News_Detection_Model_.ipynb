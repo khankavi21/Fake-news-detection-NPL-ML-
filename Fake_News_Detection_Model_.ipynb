{
  "cells": [
    {
      "cell_type": "code",
      "execution_count": 1,
      "metadata": {
        "id": "FBjPtughbqFF"
      },
      "outputs": [],
      "source": [
        "import pandas as pd\n",
        "import string"
      ]
    },
    {
      "cell_type": "code",
      "execution_count": 2,
      "metadata": {
        "colab": {
          "base_uri": "https://localhost:8080/",
          "height": 588
        },
        "id": "1_puOchkb6Gt",
        "outputId": "9345b705-bb57-40f8-b16d-bd925e9bf309"
      },
      "outputs": [
        {
          "data": {
            "text/html": [
              "<div>\n",
              "<style scoped>\n",
              "    .dataframe tbody tr th:only-of-type {\n",
              "        vertical-align: middle;\n",
              "    }\n",
              "\n",
              "    .dataframe tbody tr th {\n",
              "        vertical-align: top;\n",
              "    }\n",
              "\n",
              "    .dataframe thead th {\n",
              "        text-align: right;\n",
              "    }\n",
              "</style>\n",
              "<table border=\"1\" class=\"dataframe\">\n",
              "  <thead>\n",
              "    <tr style=\"text-align: right;\">\n",
              "      <th></th>\n",
              "      <th>URLs</th>\n",
              "      <th>Headline</th>\n",
              "      <th>Body</th>\n",
              "      <th>Label</th>\n",
              "    </tr>\n",
              "  </thead>\n",
              "  <tbody>\n",
              "    <tr>\n",
              "      <th>0</th>\n",
              "      <td>http://www.bbc.com/news/world-us-canada-414191...</td>\n",
              "      <td>Four ways Bob Corker skewered Donald Trump</td>\n",
              "      <td>Image copyright Getty Images\\nOn Sunday mornin...</td>\n",
              "      <td>1</td>\n",
              "    </tr>\n",
              "    <tr>\n",
              "      <th>1</th>\n",
              "      <td>https://www.reuters.com/article/us-filmfestiva...</td>\n",
              "      <td>Linklater's war veteran comedy speaks to moder...</td>\n",
              "      <td>LONDON (Reuters) - “Last Flag Flying”, a comed...</td>\n",
              "      <td>1</td>\n",
              "    </tr>\n",
              "    <tr>\n",
              "      <th>2</th>\n",
              "      <td>https://www.nytimes.com/2017/10/09/us/politics...</td>\n",
              "      <td>Trump’s Fight With Corker Jeopardizes His Legi...</td>\n",
              "      <td>The feud broke into public view last week when...</td>\n",
              "      <td>1</td>\n",
              "    </tr>\n",
              "    <tr>\n",
              "      <th>3</th>\n",
              "      <td>https://www.reuters.com/article/us-mexico-oil-...</td>\n",
              "      <td>Egypt's Cheiron wins tie-up with Pemex for Mex...</td>\n",
              "      <td>MEXICO CITY (Reuters) - Egypt’s Cheiron Holdin...</td>\n",
              "      <td>1</td>\n",
              "    </tr>\n",
              "    <tr>\n",
              "      <th>4</th>\n",
              "      <td>http://www.cnn.com/videos/cnnmoney/2017/10/08/...</td>\n",
              "      <td>Jason Aldean opens 'SNL' with Vegas tribute</td>\n",
              "      <td>Country singer Jason Aldean, who was performin...</td>\n",
              "      <td>1</td>\n",
              "    </tr>\n",
              "  </tbody>\n",
              "</table>\n",
              "</div>"
            ],
            "text/plain": [
              "                                                URLs  \\\n",
              "0  http://www.bbc.com/news/world-us-canada-414191...   \n",
              "1  https://www.reuters.com/article/us-filmfestiva...   \n",
              "2  https://www.nytimes.com/2017/10/09/us/politics...   \n",
              "3  https://www.reuters.com/article/us-mexico-oil-...   \n",
              "4  http://www.cnn.com/videos/cnnmoney/2017/10/08/...   \n",
              "\n",
              "                                            Headline  \\\n",
              "0         Four ways Bob Corker skewered Donald Trump   \n",
              "1  Linklater's war veteran comedy speaks to moder...   \n",
              "2  Trump’s Fight With Corker Jeopardizes His Legi...   \n",
              "3  Egypt's Cheiron wins tie-up with Pemex for Mex...   \n",
              "4        Jason Aldean opens 'SNL' with Vegas tribute   \n",
              "\n",
              "                                                Body  Label  \n",
              "0  Image copyright Getty Images\\nOn Sunday mornin...      1  \n",
              "1  LONDON (Reuters) - “Last Flag Flying”, a comed...      1  \n",
              "2  The feud broke into public view last week when...      1  \n",
              "3  MEXICO CITY (Reuters) - Egypt’s Cheiron Holdin...      1  \n",
              "4  Country singer Jason Aldean, who was performin...      1  "
            ]
          },
          "execution_count": 2,
          "metadata": {},
          "output_type": "execute_result"
        }
      ],
      "source": [
        "df = pd.read_csv(\"data.csv\")\n",
        "df.head()"
      ]
    },
    {
      "cell_type": "code",
      "execution_count": null,
      "metadata": {},
      "outputs": [],
      "source": []
    },
    {
      "cell_type": "code",
      "execution_count": 3,
      "metadata": {
        "colab": {
          "base_uri": "https://localhost:8080/",
          "height": 300
        },
        "id": "I3l55mPzc29l",
        "outputId": "671895b8-8edb-4949-9630-0ba7ba0c94ac"
      },
      "outputs": [
        {
          "data": {
            "text/html": [
              "<div>\n",
              "<style scoped>\n",
              "    .dataframe tbody tr th:only-of-type {\n",
              "        vertical-align: middle;\n",
              "    }\n",
              "\n",
              "    .dataframe tbody tr th {\n",
              "        vertical-align: top;\n",
              "    }\n",
              "\n",
              "    .dataframe thead th {\n",
              "        text-align: right;\n",
              "    }\n",
              "</style>\n",
              "<table border=\"1\" class=\"dataframe\">\n",
              "  <thead>\n",
              "    <tr style=\"text-align: right;\">\n",
              "      <th></th>\n",
              "      <th>Label</th>\n",
              "    </tr>\n",
              "  </thead>\n",
              "  <tbody>\n",
              "    <tr>\n",
              "      <th>count</th>\n",
              "      <td>4009.000000</td>\n",
              "    </tr>\n",
              "    <tr>\n",
              "      <th>mean</th>\n",
              "      <td>0.466949</td>\n",
              "    </tr>\n",
              "    <tr>\n",
              "      <th>std</th>\n",
              "      <td>0.498969</td>\n",
              "    </tr>\n",
              "    <tr>\n",
              "      <th>min</th>\n",
              "      <td>0.000000</td>\n",
              "    </tr>\n",
              "    <tr>\n",
              "      <th>25%</th>\n",
              "      <td>0.000000</td>\n",
              "    </tr>\n",
              "    <tr>\n",
              "      <th>50%</th>\n",
              "      <td>0.000000</td>\n",
              "    </tr>\n",
              "    <tr>\n",
              "      <th>75%</th>\n",
              "      <td>1.000000</td>\n",
              "    </tr>\n",
              "    <tr>\n",
              "      <th>max</th>\n",
              "      <td>1.000000</td>\n",
              "    </tr>\n",
              "  </tbody>\n",
              "</table>\n",
              "</div>"
            ],
            "text/plain": [
              "             Label\n",
              "count  4009.000000\n",
              "mean      0.466949\n",
              "std       0.498969\n",
              "min       0.000000\n",
              "25%       0.000000\n",
              "50%       0.000000\n",
              "75%       1.000000\n",
              "max       1.000000"
            ]
          },
          "execution_count": 3,
          "metadata": {},
          "output_type": "execute_result"
        }
      ],
      "source": [
        "df.describe()"
      ]
    },
    {
      "cell_type": "code",
      "execution_count": 4,
      "metadata": {
        "colab": {
          "base_uri": "https://localhost:8080/"
        },
        "id": "-EuJhaGJc-12",
        "outputId": "ef545ece-ceb2-4ad3-cf4f-333b09abacca"
      },
      "outputs": [
        {
          "name": "stdout",
          "output_type": "stream",
          "text": [
            "<class 'pandas.core.frame.DataFrame'>\n",
            "RangeIndex: 4009 entries, 0 to 4008\n",
            "Data columns (total 4 columns):\n",
            " #   Column    Non-Null Count  Dtype \n",
            "---  ------    --------------  ----- \n",
            " 0   URLs      4009 non-null   object\n",
            " 1   Headline  4009 non-null   object\n",
            " 2   Body      3988 non-null   object\n",
            " 3   Label     4009 non-null   int64 \n",
            "dtypes: int64(1), object(3)\n",
            "memory usage: 125.4+ KB\n"
          ]
        }
      ],
      "source": [
        "df.info()"
      ]
    },
    {
      "cell_type": "code",
      "execution_count": 5,
      "metadata": {
        "colab": {
          "base_uri": "https://localhost:8080/"
        },
        "id": "o4VjFCRmdCYl",
        "outputId": "1c7a67be-38b4-4ef3-d854-152161cac8fc"
      },
      "outputs": [
        {
          "data": {
            "text/plain": [
              "URLs         0\n",
              "Headline     0\n",
              "Body        21\n",
              "Label        0\n",
              "dtype: int64"
            ]
          },
          "execution_count": 5,
          "metadata": {},
          "output_type": "execute_result"
        }
      ],
      "source": [
        "df.isnull().sum()"
      ]
    },
    {
      "cell_type": "code",
      "execution_count": 6,
      "metadata": {
        "id": "UV32MhCqgETQ"
      },
      "outputs": [],
      "source": [
        "df = df.dropna()\n"
      ]
    },
    {
      "cell_type": "code",
      "execution_count": 7,
      "metadata": {
        "colab": {
          "base_uri": "https://localhost:8080/"
        },
        "id": "EC_tsU7YgME0",
        "outputId": "4a59b8c6-8daf-4b65-f552-84e1301df84c"
      },
      "outputs": [
        {
          "data": {
            "text/plain": [
              "URLs        0\n",
              "Headline    0\n",
              "Body        0\n",
              "Label       0\n",
              "dtype: int64"
            ]
          },
          "execution_count": 7,
          "metadata": {},
          "output_type": "execute_result"
        }
      ],
      "source": [
        "df.isnull().sum()"
      ]
    },
    {
      "cell_type": "code",
      "execution_count": 8,
      "metadata": {
        "colab": {
          "base_uri": "https://localhost:8080/"
        },
        "id": "0YJQ-iSpgSF9",
        "outputId": "5de5283a-2424-478f-8319-d5388d864c0e"
      },
      "outputs": [
        {
          "data": {
            "text/plain": [
              "Index(['URLs', 'Headline', 'Body', 'Label'], dtype='object')"
            ]
          },
          "execution_count": 8,
          "metadata": {},
          "output_type": "execute_result"
        }
      ],
      "source": [
        "\n",
        "df.columns"
      ]
    },
    {
      "cell_type": "code",
      "execution_count": 9,
      "metadata": {
        "id": "c5JsufdagZIU"
      },
      "outputs": [],
      "source": [
        "df = df.drop(columns=['URLs','Headline'] , axis = 1)"
      ]
    },
    {
      "cell_type": "code",
      "execution_count": 10,
      "metadata": {
        "colab": {
          "base_uri": "https://localhost:8080/",
          "height": 206
        },
        "id": "UDJPIuOZgk_V",
        "outputId": "5e97af38-7426-463f-f3d9-c7d91530ef45"
      },
      "outputs": [
        {
          "data": {
            "text/html": [
              "<div>\n",
              "<style scoped>\n",
              "    .dataframe tbody tr th:only-of-type {\n",
              "        vertical-align: middle;\n",
              "    }\n",
              "\n",
              "    .dataframe tbody tr th {\n",
              "        vertical-align: top;\n",
              "    }\n",
              "\n",
              "    .dataframe thead th {\n",
              "        text-align: right;\n",
              "    }\n",
              "</style>\n",
              "<table border=\"1\" class=\"dataframe\">\n",
              "  <thead>\n",
              "    <tr style=\"text-align: right;\">\n",
              "      <th></th>\n",
              "      <th>Body</th>\n",
              "      <th>Label</th>\n",
              "    </tr>\n",
              "  </thead>\n",
              "  <tbody>\n",
              "    <tr>\n",
              "      <th>0</th>\n",
              "      <td>Image copyright Getty Images\\nOn Sunday mornin...</td>\n",
              "      <td>1</td>\n",
              "    </tr>\n",
              "    <tr>\n",
              "      <th>1</th>\n",
              "      <td>LONDON (Reuters) - “Last Flag Flying”, a comed...</td>\n",
              "      <td>1</td>\n",
              "    </tr>\n",
              "    <tr>\n",
              "      <th>2</th>\n",
              "      <td>The feud broke into public view last week when...</td>\n",
              "      <td>1</td>\n",
              "    </tr>\n",
              "    <tr>\n",
              "      <th>3</th>\n",
              "      <td>MEXICO CITY (Reuters) - Egypt’s Cheiron Holdin...</td>\n",
              "      <td>1</td>\n",
              "    </tr>\n",
              "    <tr>\n",
              "      <th>4</th>\n",
              "      <td>Country singer Jason Aldean, who was performin...</td>\n",
              "      <td>1</td>\n",
              "    </tr>\n",
              "  </tbody>\n",
              "</table>\n",
              "</div>"
            ],
            "text/plain": [
              "                                                Body  Label\n",
              "0  Image copyright Getty Images\\nOn Sunday mornin...      1\n",
              "1  LONDON (Reuters) - “Last Flag Flying”, a comed...      1\n",
              "2  The feud broke into public view last week when...      1\n",
              "3  MEXICO CITY (Reuters) - Egypt’s Cheiron Holdin...      1\n",
              "4  Country singer Jason Aldean, who was performin...      1"
            ]
          },
          "execution_count": 10,
          "metadata": {},
          "output_type": "execute_result"
        }
      ],
      "source": [
        "df.head()"
      ]
    },
    {
      "cell_type": "code",
      "execution_count": 11,
      "metadata": {},
      "outputs": [],
      "source": [
        "import nltk"
      ]
    },
    {
      "cell_type": "code",
      "execution_count": 14,
      "metadata": {},
      "outputs": [
        {
          "name": "stderr",
          "output_type": "stream",
          "text": [
            "[nltk_data] Downloading package stopwords to\n",
            "[nltk_data]     C:\\Users\\HP\\AppData\\Roaming\\nltk_data...\n",
            "[nltk_data]   Unzipping corpora\\stopwords.zip.\n"
          ]
        },
        {
          "data": {
            "text/plain": [
              "True"
            ]
          },
          "execution_count": 14,
          "metadata": {},
          "output_type": "execute_result"
        }
      ],
      "source": [
        "nltk.download('stopwords')"
      ]
    },
    {
      "cell_type": "code",
      "execution_count": 23,
      "metadata": {
        "id": "NlSHIwCNgoJ3"
      },
      "outputs": [],
      "source": [
        "from nltk.corpus import stopwords"
      ]
    },
    {
      "cell_type": "code",
      "execution_count": 24,
      "metadata": {
        "id": "O-atYDn3gvEM"
      },
      "outputs": [],
      "source": [
        "from nltk.stem.porter import PorterStemmer"
      ]
    },
    {
      "cell_type": "code",
      "execution_count": 25,
      "metadata": {
        "id": "eU812ZBEg3GM"
      },
      "outputs": [],
      "source": [
        "port_stem = PorterStemmer()"
      ]
    },
    {
      "cell_type": "code",
      "execution_count": 27,
      "metadata": {
        "colab": {
          "base_uri": "https://localhost:8080/"
        },
        "id": "zxZ7gDdjg-Vh",
        "outputId": "76b1bc2e-0205-4a5f-8587-69fd9b77a377"
      },
      "outputs": [
        {
          "data": {
            "text/plain": [
              "<PorterStemmer>"
            ]
          },
          "execution_count": 27,
          "metadata": {},
          "output_type": "execute_result"
        }
      ],
      "source": [
        "port_stem"
      ]
    },
    {
      "cell_type": "code",
      "execution_count": 28,
      "metadata": {
        "id": "V96UFHy_hBeA"
      },
      "outputs": [],
      "source": [
        "import re"
      ]
    },
    {
      "cell_type": "code",
      "execution_count": 20,
      "metadata": {
        "id": "onootEAyhFfi"
      },
      "outputs": [],
      "source": [
        "def stemming(content):\n",
        "  con = re.sub('[^a-zA-Z]',' ', content)\n",
        "  con = con.lower()\n",
        "  con = con.split()\n",
        "  con = [port_stem.stem(word) for word in con if not word in stopwords.words('english')]\n",
        "  con = ' '.join(con)\n",
        "  return con"
      ]
    },
    {
      "cell_type": "code",
      "execution_count": 29,
      "metadata": {
        "colab": {
          "base_uri": "https://localhost:8080/",
          "height": 1000
        },
        "id": "xcvA_VjRh9KZ",
        "outputId": "49e0fc4a-872d-4d2f-89da-a13b685f1f50"
      },
      "outputs": [
        {
          "data": {
            "text/plain": [
              "'hi kavi khan'"
            ]
          },
          "execution_count": 29,
          "metadata": {},
          "output_type": "execute_result"
        }
      ],
      "source": [
        "stemming('hi this is kavi khan')"
      ]
    },
    {
      "cell_type": "code",
      "execution_count": 30,
      "metadata": {
        "colab": {
          "base_uri": "https://localhost:8080/",
          "height": 36
        },
        "id": "g6gRGs5QiSu_",
        "outputId": "c6938f86-cd1b-40a6-8a54-e166aa1b1ea3"
      },
      "outputs": [
        {
          "data": {
            "text/plain": [
              "'hi kavi khan'"
            ]
          },
          "execution_count": 30,
          "metadata": {},
          "output_type": "execute_result"
        }
      ],
      "source": [
        "stemming('hi this is kavi khan')"
      ]
    },
    {
      "cell_type": "code",
      "execution_count": 32,
      "metadata": {
        "id": "vtWauQaViX2Y"
      },
      "outputs": [],
      "source": [
        "df['Body']=df['Body'].apply(lambda x: stemming(x))"
      ]
    },
    {
      "cell_type": "code",
      "execution_count": 33,
      "metadata": {
        "id": "RPNtPqVZjxf8"
      },
      "outputs": [],
      "source": [
        "x=df['Body']"
      ]
    },
    {
      "cell_type": "code",
      "execution_count": 34,
      "metadata": {
        "id": "AzxrJ9YIj3XG"
      },
      "outputs": [],
      "source": [
        "y=df['Label']"
      ]
    },
    {
      "cell_type": "code",
      "execution_count": 35,
      "metadata": {
        "colab": {
          "base_uri": "https://localhost:8080/"
        },
        "id": "lj-GEKnej7fn",
        "outputId": "48df1ca2-2e20-41ed-e900-bf3545553ded"
      },
      "outputs": [
        {
          "data": {
            "text/plain": [
              "(3988,)"
            ]
          },
          "execution_count": 35,
          "metadata": {},
          "output_type": "execute_result"
        }
      ],
      "source": [
        "x.shape"
      ]
    },
    {
      "cell_type": "code",
      "execution_count": 36,
      "metadata": {
        "colab": {
          "base_uri": "https://localhost:8080/"
        },
        "id": "rWKodIeWj-TK",
        "outputId": "8b79f4ba-e313-4f59-8f2c-437de5c6d843"
      },
      "outputs": [
        {
          "data": {
            "text/plain": [
              "(3988,)"
            ]
          },
          "execution_count": 36,
          "metadata": {},
          "output_type": "execute_result"
        }
      ],
      "source": [
        "y.shape"
      ]
    },
    {
      "cell_type": "code",
      "execution_count": 37,
      "metadata": {
        "id": "TJA673aBkCSM"
      },
      "outputs": [],
      "source": [
        "from sklearn.model_selection import train_test_split"
      ]
    },
    {
      "cell_type": "code",
      "execution_count": 38,
      "metadata": {
        "id": "_OW_0ksekFWn"
      },
      "outputs": [],
      "source": [
        "x_train, x_test , y_train, y_test = train_test_split(x, y, test_size=0.20)"
      ]
    },
    {
      "cell_type": "code",
      "execution_count": 39,
      "metadata": {
        "id": "Yy_NvtIkkN_h"
      },
      "outputs": [],
      "source": [
        "from sklearn.feature_extraction.text import TfidfVectorizer"
      ]
    },
    {
      "cell_type": "code",
      "execution_count": 40,
      "metadata": {
        "id": "xw8AIiZjkaTI"
      },
      "outputs": [],
      "source": [
        "vect =TfidfVectorizer()"
      ]
    },
    {
      "cell_type": "code",
      "execution_count": 41,
      "metadata": {
        "id": "wGHvB_2gkgV3"
      },
      "outputs": [],
      "source": [
        "x_train= vect.fit_transform(x_train)\n",
        "x_test = vect.transform(x_test)"
      ]
    },
    {
      "cell_type": "code",
      "execution_count": 42,
      "metadata": {
        "colab": {
          "base_uri": "https://localhost:8080/"
        },
        "id": "j3mBW9vsktuw",
        "outputId": "444902fa-1d21-47a7-b91c-f0b8f95a7a06"
      },
      "outputs": [
        {
          "data": {
            "text/plain": [
              "(3190, 27915)"
            ]
          },
          "execution_count": 42,
          "metadata": {},
          "output_type": "execute_result"
        }
      ],
      "source": [
        "x_train.shape"
      ]
    },
    {
      "cell_type": "code",
      "execution_count": 43,
      "metadata": {
        "colab": {
          "base_uri": "https://localhost:8080/"
        },
        "id": "y3P2JQLulBkf",
        "outputId": "9d386f4e-f28e-44ef-d69a-1700afea8267"
      },
      "outputs": [
        {
          "data": {
            "text/plain": [
              "(798, 27915)"
            ]
          },
          "execution_count": 43,
          "metadata": {},
          "output_type": "execute_result"
        }
      ],
      "source": [
        "x_test.shape"
      ]
    },
    {
      "cell_type": "code",
      "execution_count": 44,
      "metadata": {
        "id": "vrOLRiwulHjK"
      },
      "outputs": [],
      "source": [
        "from sklearn.tree import DecisionTreeClassifier"
      ]
    },
    {
      "cell_type": "code",
      "execution_count": 45,
      "metadata": {
        "id": "9vPqpHwKlQw8"
      },
      "outputs": [],
      "source": [
        "model = DecisionTreeClassifier()"
      ]
    },
    {
      "cell_type": "code",
      "execution_count": 46,
      "metadata": {
        "colab": {
          "base_uri": "https://localhost:8080/",
          "height": 74
        },
        "id": "Ct92lWoFlW2m",
        "outputId": "af1cb5ef-13c8-46f3-e23f-caac4d80023b"
      },
      "outputs": [
        {
          "data": {
            "text/html": [
              "<style>#sk-container-id-1 {color: black;}#sk-container-id-1 pre{padding: 0;}#sk-container-id-1 div.sk-toggleable {background-color: white;}#sk-container-id-1 label.sk-toggleable__label {cursor: pointer;display: block;width: 100%;margin-bottom: 0;padding: 0.3em;box-sizing: border-box;text-align: center;}#sk-container-id-1 label.sk-toggleable__label-arrow:before {content: \"▸\";float: left;margin-right: 0.25em;color: #696969;}#sk-container-id-1 label.sk-toggleable__label-arrow:hover:before {color: black;}#sk-container-id-1 div.sk-estimator:hover label.sk-toggleable__label-arrow:before {color: black;}#sk-container-id-1 div.sk-toggleable__content {max-height: 0;max-width: 0;overflow: hidden;text-align: left;background-color: #f0f8ff;}#sk-container-id-1 div.sk-toggleable__content pre {margin: 0.2em;color: black;border-radius: 0.25em;background-color: #f0f8ff;}#sk-container-id-1 input.sk-toggleable__control:checked~div.sk-toggleable__content {max-height: 200px;max-width: 100%;overflow: auto;}#sk-container-id-1 input.sk-toggleable__control:checked~label.sk-toggleable__label-arrow:before {content: \"▾\";}#sk-container-id-1 div.sk-estimator input.sk-toggleable__control:checked~label.sk-toggleable__label {background-color: #d4ebff;}#sk-container-id-1 div.sk-label input.sk-toggleable__control:checked~label.sk-toggleable__label {background-color: #d4ebff;}#sk-container-id-1 input.sk-hidden--visually {border: 0;clip: rect(1px 1px 1px 1px);clip: rect(1px, 1px, 1px, 1px);height: 1px;margin: -1px;overflow: hidden;padding: 0;position: absolute;width: 1px;}#sk-container-id-1 div.sk-estimator {font-family: monospace;background-color: #f0f8ff;border: 1px dotted black;border-radius: 0.25em;box-sizing: border-box;margin-bottom: 0.5em;}#sk-container-id-1 div.sk-estimator:hover {background-color: #d4ebff;}#sk-container-id-1 div.sk-parallel-item::after {content: \"\";width: 100%;border-bottom: 1px solid gray;flex-grow: 1;}#sk-container-id-1 div.sk-label:hover label.sk-toggleable__label {background-color: #d4ebff;}#sk-container-id-1 div.sk-serial::before {content: \"\";position: absolute;border-left: 1px solid gray;box-sizing: border-box;top: 0;bottom: 0;left: 50%;z-index: 0;}#sk-container-id-1 div.sk-serial {display: flex;flex-direction: column;align-items: center;background-color: white;padding-right: 0.2em;padding-left: 0.2em;position: relative;}#sk-container-id-1 div.sk-item {position: relative;z-index: 1;}#sk-container-id-1 div.sk-parallel {display: flex;align-items: stretch;justify-content: center;background-color: white;position: relative;}#sk-container-id-1 div.sk-item::before, #sk-container-id-1 div.sk-parallel-item::before {content: \"\";position: absolute;border-left: 1px solid gray;box-sizing: border-box;top: 0;bottom: 0;left: 50%;z-index: -1;}#sk-container-id-1 div.sk-parallel-item {display: flex;flex-direction: column;z-index: 1;position: relative;background-color: white;}#sk-container-id-1 div.sk-parallel-item:first-child::after {align-self: flex-end;width: 50%;}#sk-container-id-1 div.sk-parallel-item:last-child::after {align-self: flex-start;width: 50%;}#sk-container-id-1 div.sk-parallel-item:only-child::after {width: 0;}#sk-container-id-1 div.sk-dashed-wrapped {border: 1px dashed gray;margin: 0 0.4em 0.5em 0.4em;box-sizing: border-box;padding-bottom: 0.4em;background-color: white;}#sk-container-id-1 div.sk-label label {font-family: monospace;font-weight: bold;display: inline-block;line-height: 1.2em;}#sk-container-id-1 div.sk-label-container {text-align: center;}#sk-container-id-1 div.sk-container {/* jupyter's `normalize.less` sets `[hidden] { display: none; }` but bootstrap.min.css set `[hidden] { display: none !important; }` so we also need the `!important` here to be able to override the default hidden behavior on the sphinx rendered scikit-learn.org. See: https://github.com/scikit-learn/scikit-learn/issues/21755 */display: inline-block !important;position: relative;}#sk-container-id-1 div.sk-text-repr-fallback {display: none;}</style><div id=\"sk-container-id-1\" class=\"sk-top-container\"><div class=\"sk-text-repr-fallback\"><pre>DecisionTreeClassifier()</pre><b>In a Jupyter environment, please rerun this cell to show the HTML representation or trust the notebook. <br />On GitHub, the HTML representation is unable to render, please try loading this page with nbviewer.org.</b></div><div class=\"sk-container\" hidden><div class=\"sk-item\"><div class=\"sk-estimator sk-toggleable\"><input class=\"sk-toggleable__control sk-hidden--visually\" id=\"sk-estimator-id-1\" type=\"checkbox\" checked><label for=\"sk-estimator-id-1\" class=\"sk-toggleable__label sk-toggleable__label-arrow\">DecisionTreeClassifier</label><div class=\"sk-toggleable__content\"><pre>DecisionTreeClassifier()</pre></div></div></div></div></div>"
            ],
            "text/plain": [
              "DecisionTreeClassifier()"
            ]
          },
          "execution_count": 46,
          "metadata": {},
          "output_type": "execute_result"
        }
      ],
      "source": [
        "model.fit(x_train , y_train)"
      ]
    },
    {
      "cell_type": "code",
      "execution_count": 47,
      "metadata": {
        "id": "AJdedQXoldro"
      },
      "outputs": [],
      "source": [
        "prediction = model.predict(x_test)"
      ]
    },
    {
      "cell_type": "code",
      "execution_count": 48,
      "metadata": {
        "colab": {
          "base_uri": "https://localhost:8080/"
        },
        "id": "lqfizzNIljYJ",
        "outputId": "f2d1cc5f-ba39-4b11-d870-afab71885a82"
      },
      "outputs": [
        {
          "data": {
            "text/plain": [
              "array([0, 0, 1, 0, 1, 1, 0, 1, 1, 0, 1, 0, 0, 0, 1, 0, 1, 1, 0, 0, 0, 0,\n",
              "       0, 1, 1, 1, 1, 1, 1, 0, 1, 0, 0, 1, 1, 0, 0, 1, 1, 0, 1, 0, 0, 0,\n",
              "       1, 1, 1, 0, 0, 0, 0, 0, 0, 1, 0, 0, 0, 0, 0, 0, 0, 1, 0, 0, 0, 0,\n",
              "       1, 1, 0, 1, 1, 1, 0, 0, 0, 1, 0, 0, 0, 1, 0, 1, 1, 1, 0, 1, 1, 1,\n",
              "       1, 0, 0, 1, 1, 0, 0, 1, 0, 1, 1, 1, 0, 0, 0, 0, 1, 0, 0, 0, 1, 1,\n",
              "       1, 1, 0, 1, 0, 0, 0, 0, 1, 0, 1, 1, 1, 0, 0, 0, 0, 1, 0, 0, 0, 1,\n",
              "       0, 0, 0, 0, 1, 1, 1, 0, 1, 0, 0, 0, 0, 1, 1, 1, 1, 0, 1, 1, 1, 1,\n",
              "       1, 0, 0, 1, 0, 0, 1, 0, 0, 1, 0, 1, 0, 0, 0, 0, 1, 0, 0, 0, 0, 0,\n",
              "       0, 0, 1, 1, 0, 0, 1, 0, 1, 0, 0, 1, 1, 0, 1, 0, 1, 1, 0, 0, 0, 1,\n",
              "       0, 0, 0, 0, 0, 0, 0, 0, 0, 0, 0, 0, 1, 0, 1, 0, 1, 0, 1, 0, 0, 1,\n",
              "       1, 1, 0, 0, 0, 1, 1, 1, 0, 0, 0, 0, 1, 1, 0, 0, 1, 1, 0, 1, 0, 0,\n",
              "       1, 0, 0, 0, 0, 0, 0, 1, 0, 0, 1, 1, 0, 0, 0, 0, 0, 0, 1, 0, 1, 0,\n",
              "       1, 0, 1, 1, 1, 0, 0, 1, 1, 1, 1, 1, 1, 0, 0, 1, 1, 1, 1, 0, 0, 0,\n",
              "       0, 0, 1, 0, 0, 1, 0, 1, 0, 0, 0, 1, 0, 0, 1, 0, 0, 1, 1, 0, 1, 1,\n",
              "       0, 1, 0, 1, 1, 1, 0, 0, 1, 1, 1, 1, 0, 0, 1, 0, 1, 1, 0, 0, 0, 0,\n",
              "       1, 0, 0, 1, 0, 1, 0, 1, 1, 1, 1, 0, 1, 0, 1, 1, 0, 1, 1, 0, 1, 0,\n",
              "       0, 1, 0, 0, 1, 1, 1, 1, 0, 0, 0, 1, 0, 0, 1, 0, 0, 1, 0, 0, 0, 0,\n",
              "       1, 1, 0, 0, 1, 1, 0, 0, 0, 0, 0, 1, 1, 1, 0, 0, 0, 1, 0, 1, 0, 1,\n",
              "       1, 0, 1, 0, 0, 0, 0, 1, 0, 0, 1, 0, 1, 0, 1, 1, 0, 0, 0, 1, 1, 0,\n",
              "       1, 0, 0, 0, 0, 0, 0, 1, 1, 0, 1, 1, 1, 0, 1, 0, 1, 1, 1, 1, 0, 1,\n",
              "       0, 0, 1, 0, 1, 0, 0, 0, 0, 0, 1, 0, 1, 0, 1, 1, 1, 1, 0, 0, 0, 1,\n",
              "       1, 1, 0, 0, 0, 0, 0, 1, 1, 0, 0, 1, 0, 0, 0, 1, 1, 1, 1, 0, 1, 1,\n",
              "       0, 1, 1, 0, 1, 1, 1, 1, 1, 0, 0, 0, 0, 1, 1, 1, 0, 0, 0, 0, 0, 1,\n",
              "       1, 0, 0, 0, 0, 1, 0, 0, 1, 0, 0, 0, 1, 1, 0, 1, 0, 1, 1, 0, 1, 0,\n",
              "       1, 1, 1, 0, 0, 1, 1, 1, 0, 0, 1, 1, 1, 0, 1, 1, 1, 1, 1, 0, 1, 1,\n",
              "       1, 0, 1, 1, 1, 1, 1, 1, 1, 1, 0, 0, 1, 1, 1, 0, 0, 1, 1, 0, 0, 0,\n",
              "       1, 0, 0, 1, 1, 0, 0, 0, 1, 0, 0, 1, 1, 0, 1, 0, 1, 0, 0, 1, 1, 0,\n",
              "       0, 1, 0, 1, 0, 0, 0, 0, 0, 1, 1, 0, 1, 0, 0, 1, 0, 1, 0, 1, 1, 0,\n",
              "       0, 1, 0, 1, 0, 0, 0, 0, 0, 0, 0, 0, 1, 1, 0, 1, 1, 1, 0, 0, 0, 1,\n",
              "       1, 1, 0, 1, 1, 1, 0, 1, 0, 0, 0, 1, 1, 1, 1, 0, 0, 1, 1, 0, 1, 0,\n",
              "       0, 0, 1, 1, 1, 0, 1, 0, 0, 1, 1, 0, 1, 1, 1, 0, 1, 1, 1, 0, 1, 0,\n",
              "       1, 0, 0, 0, 0, 0, 1, 0, 0, 1, 1, 0, 0, 0, 1, 0, 0, 1, 0, 0, 0, 1,\n",
              "       1, 1, 0, 0, 1, 1, 1, 0, 1, 1, 0, 1, 1, 0, 0, 0, 0, 0, 1, 0, 1, 1,\n",
              "       0, 1, 1, 1, 1, 1, 0, 0, 0, 1, 0, 1, 1, 0, 1, 1, 0, 1, 0, 0, 1, 0,\n",
              "       1, 1, 0, 1, 1, 0, 1, 0, 1, 1, 1, 1, 0, 1, 1, 1, 1, 0, 1, 1, 0, 0,\n",
              "       1, 0, 1, 1, 0, 1, 1, 1, 1, 1, 0, 0, 0, 1, 1, 1, 0, 0, 0, 0, 1, 0,\n",
              "       0, 1, 1, 0, 0, 1], dtype=int64)"
            ]
          },
          "execution_count": 48,
          "metadata": {},
          "output_type": "execute_result"
        }
      ],
      "source": [
        "prediction"
      ]
    },
    {
      "cell_type": "code",
      "execution_count": 49,
      "metadata": {
        "colab": {
          "base_uri": "https://localhost:8080/"
        },
        "id": "vy1uefhUlmlH",
        "outputId": "b9f9df85-82ac-4698-ccc3-33d0e9cb1e22"
      },
      "outputs": [
        {
          "data": {
            "text/plain": [
              "0.956140350877193"
            ]
          },
          "execution_count": 49,
          "metadata": {},
          "output_type": "execute_result"
        }
      ],
      "source": [
        "model.score(x_test , y_test)"
      ]
    },
    {
      "cell_type": "code",
      "execution_count": 50,
      "metadata": {
        "colab": {
          "base_uri": "https://localhost:8080/"
        },
        "id": "tQUuRNcHl7GP",
        "outputId": "08382664-a36d-4523-881a-4ec099f8b36a"
      },
      "outputs": [
        {
          "data": {
            "text/plain": [
              "1.0"
            ]
          },
          "execution_count": 50,
          "metadata": {},
          "output_type": "execute_result"
        }
      ],
      "source": [
        "model.score(x_train , y_train)"
      ]
    },
    {
      "cell_type": "code",
      "execution_count": 51,
      "metadata": {
        "id": "OGYtwrO5mMVA"
      },
      "outputs": [],
      "source": [
        "from sklearn.metrics import accuracy_score"
      ]
    },
    {
      "cell_type": "code",
      "execution_count": 52,
      "metadata": {
        "id": "Z0-828YLmQXu"
      },
      "outputs": [],
      "source": [
        "accur=accuracy_score(y_test, prediction)"
      ]
    },
    {
      "cell_type": "code",
      "execution_count": 53,
      "metadata": {
        "colab": {
          "base_uri": "https://localhost:8080/"
        },
        "id": "Jg-DCQ1NmU4h",
        "outputId": "18313636-1cea-4363-88ae-c4ed3b4fd3bd"
      },
      "outputs": [
        {
          "data": {
            "text/plain": [
              "0.956140350877193"
            ]
          },
          "execution_count": 53,
          "metadata": {},
          "output_type": "execute_result"
        }
      ],
      "source": [
        "accur"
      ]
    },
    {
      "cell_type": "code",
      "execution_count": 54,
      "metadata": {
        "id": "PZwUl5NnUplR"
      },
      "outputs": [],
      "source": [
        "import pickle"
      ]
    },
    {
      "cell_type": "code",
      "execution_count": 55,
      "metadata": {
        "id": "1F6px42_Up8G"
      },
      "outputs": [],
      "source": [
        "pickle.dump(vect,open('vector.pkl','wb'))"
      ]
    },
    {
      "cell_type": "code",
      "execution_count": 56,
      "metadata": {
        "id": "jg2Dt7izU0bG"
      },
      "outputs": [],
      "source": [
        "pickle.dump(model,open('model.pkl','wb'))"
      ]
    },
    {
      "cell_type": "code",
      "execution_count": 57,
      "metadata": {
        "id": "BuUFiFvHVG98"
      },
      "outputs": [],
      "source": [
        "vector_form = pickle.load(open('vector.pkl','rb'))"
      ]
    },
    {
      "cell_type": "code",
      "execution_count": 58,
      "metadata": {
        "id": "iv_yO9w0VQLS"
      },
      "outputs": [],
      "source": [
        "load_model = pickle.load(open('model.pkl', 'rb'))"
      ]
    },
    {
      "cell_type": "code",
      "execution_count": null,
      "metadata": {
        "id": "bGW7gRaFVHly"
      },
      "outputs": [],
      "source": []
    },
    {
      "cell_type": "code",
      "execution_count": 59,
      "metadata": {
        "id": "ztCDa6DxWNGB"
      },
      "outputs": [],
      "source": [
        "def fake_news(news):\n",
        "  news = stemming(news)\n",
        "  input_data = [news]\n",
        "  vector_form1 = vector_form.transform(input_data)\n",
        "  prediction = load_model.predict(vector_form1)\n",
        "  return prediction"
      ]
    },
    {
      "cell_type": "code",
      "execution_count": 60,
      "metadata": {
        "id": "FY6sMVsGW1d8"
      },
      "outputs": [],
      "source": [
        " val = fake_news(\"\"\" • The authorities found evidence that the gunman, Stephen Paddock, planned to escape after the shooting and survive, Sheriff Joseph Lombardo of the Las Vegas Metropolitan Police Department said at a news conference on Wednesday evening.\n",
        "• The bureau is trying to reconstruct Mr. Paddock’s actions, including finding and interviewing “everyone and anyone who crossed his path in recent weeks,” Andrew G. McCabe, the deputy director of the F.B.I., said at a cybersecurity conference in Boston.\n",
        "• The killer “is an individual who was not on our radar or anyone’s radar prior to the event,” Mr. McCabe said in an interview with CNBC outside the conference. “So we really have a challenging bit of detective work to do here, to kind of put the pieces back together after the fact.”\n",
        "• The police on Tuesday revised the number of victims killed on Sunday to 58. All but three of the people have been identified. These are some of their stories.\n",
        "• President Trump visited Las Vegas on Wednesday and offered words of support for the victims. “The message that I have is that we have a great country and we are there for you,” he said.\n",
        "No links to terrorism have been found, the F.B.I. says.\n",
        "Aaron Rouse, the F.B.I. special agent in charge in Las Vegas, said there was “no evidence to indicate terrorism, but this is an ongoing investigation.” Mr. Rouse said at a news conference on Wednesday evening that agents were pursuing several theories about what may have motivated Mr. Paddock.\n",
        "Sheriff Lombardo seemed skeptical that Mr. Paddock moved the guns into his hotel suite by himself. More than 20 guns and thousands of rounds of ammunition were recovered in the suite. They had been brought into the Mandalay Bay Resort and Casino in at least 10 suitcases, the authorities said.\n",
        "“It was troublesome that he was able to move this much gear into the hotel unassisted,” the sheriff said.\n",
        "A leaked photograph of the gunman’s hotel suite appears to show a piece of paper on a table. Asked about the note, the sheriff said, “It was not a suicide note.”\n",
        "Law enforcement officials said on Tuesday that ammonium nitrate had been recovered from Mr. Paddock’s car at the Mandalay Bay. On Wednesday, Sheriff Lombardo said the car also contained other explosives: 50 pounds of tannerite, a nonflammable exploding target used for practice, and 1,600 rounds of ammunition.\n",
        "The gunman’s girlfriend said she didn’t know he was ‘planning violence.’\n",
        "“I knew Stephen Paddock as a kind, caring, quiet man. I loved him and hoped for a quiet future together with him,” Ms. Danley said in her statement. “It never occurred to me in any way whatsoever that he was planning violence against anyone.”\n",
        "Ms. Danley said she was grateful to Mr. Paddock for the trip to the Philippines, her native country, to visit family, but when he wired her money, “which he said was for me to buy a house for me and my family,” she feared that it was his “way of breaking up with me.”\n",
        "Ms. Danley boarded a flight from Manila to Los Angeles on Tuesday, according to Antonette Mangrobang, a spokeswoman for the Philippine Immigration Bureau.\n",
        "The authorities, who met Ms. Danley at the Los Angeles airport, have called her a “person of interest” in the shooting investigation, which does not necessarily mean that she is suspected of committing a crime. She was out of the country when the shooting occurred.\n",
        "Photo\n",
        "More than three hours after her flight came in from Manila, an airport police officer confirmed that she had been taken out of the terminal through a side exit.\n",
        "In an interview with ABC News, Reynaldo Bustos, Ms. Danley’s brother, said he had spoken with her after the shooting. He said she told him not to panic and that she had a “clean conscience.”\n",
        "Ms. Danley met Mr. Paddock when she was working at a Nevada casino and he was a high-limit player, casino employees said. She worked at the Atlantis Casino Resort Spa in Reno from 2010 to 2013, according to her LinkedIn account.\n",
        "John Weinreich, an executive casino host at the Atlantis Casino Resort Spa at the time, said he believed that Ms. Danley frequently attended to Mr. Paddock, serving him food and pointing out which machines might be ripe for a payout, eventually becoming his regular host. Read more about Ms. Danley here.\n",
        "The president met with victims of the attack.\n",
        "Mr. Trump spent four hours in Las Vegas on Wednesday, including paying tribute to the professionalism of the doctors who treated the Las Vegas shooting victims. He said that meeting with the patients at one hospital made him “proud to be an American.”\n",
        "The president said he met with some “absolutely terribly wounded” patients and hailed their bravery during the horrific attack Sunday night. He said many of those he met with were wounded as they sought to help others amid the hail of bullets from the shooter in a nearby hotel.\n",
        "In brief remarks to reporters before meeting with law enforcement officials in Las Vegas, Mr. Trump said, “I think the only message I can say is that we are with you 100 percent.” Read more about his visit from our reporters.\n",
        "A total of 489 people were injured in the attack, and 317 have been released from hospitals, Sheriff Lombardo said Wednesday evening.\n",
        "Body camera footage captured the officers’ response.\n",
        "Video\n",
        "Las Vegas police officers took cover and directed concertgoers to safety as gunshots rang out on Sunday, newly released body camera footage shows.\n",
        "“Hey, you guys, get down,” one officer shouted at bystanders between volleys of gunfire. “Go that way. Get out of here. There are gunshots coming from over there. Go that way.”\n",
        "But some people did not believe they were under attack and rebuffed orders to evacuate. “That’s fireworks,” one bystander shouted at officers. Another yelled expletives when told to take cover.\n",
        "As sirens blared and gunfire crackled, the video showed, officers strained to find the source of the shots.\n",
        "“Hey, they’re shooting right at us, guys,” one officer said as he and his colleagues crouched behind a wall with their weapons drawn. “Everybody stay down, stay down.”\n",
        "“North of the Mandalay Bay, it’s coming out of a window,” another officer says.\n",
        "The three-minute video released by the police on Tuesday was a compilation of footage from the cameras of several officers at the scene.\n",
        "“There’s multiple people shot up there,” someone says in one clip.\n",
        "“We see muzzle blasts from the Mandalay Bay,” someone, apparently an officer, said in another clip.\n",
        "The police have also confirmed the authenticity of leaked photographs of the deceased gunman with a revolver by his side and of his hotel suite, showing ammunition and rifles.\n",
        "The gunman had stockpiled weapons.\n",
        "Mr. Paddock, 64, had been buying weapons since 1982, including 33 in the past year, Jill A. Snyder, the special agent in charge of the San Francisco office of the federal Bureau of Alcohol, Tobacco, Firearms and Explosives, told CBS on Wednesday.\n",
        "Asked if such purchases would set off any alarms, she clarified that the bureau would not have been alerted. The Gun Control Act of 1968 requires sellers to report the sale or disposition of two or more handguns to the same buyer, only if those purchases occur at the same time or within five business days of each other. There is no federal law requiring sellers to alert the bureau to the sale of multiple rifles.\n",
        "Twelve of the rifles Mr. Paddock had in his luxury suite on the 32nd floor of the Mandalay Bay Resort and Casino were outfitted with a “bump stock,” a device that enables a gun to fire like a machine gun, with hundreds of rounds per minute, which may explain how he was able to rain such devastation on the crowd below, law enforcement officials said.\n",
        "Such devices are generally legal, and the possibility that he may have used them set off a fresh round of calls by Democratic lawmakers in Washington to pass more gun regulations after the tragedy.\n",
        "Photo\n",
        "Semiautomatic rifles, like those the gunman had, are made to fire a single round with each pull of the trigger. But recordings and witness accounts of the shooting made it clear that Mr. Paddock was firing much faster, at a rate comparable to that of a fully automatic weapon, which quickly fires round after round with a single pull of the finger. Undersheriff Kevin McMahill of the Las Vegas police said that Mr. Paddock fired on the concertgoers for nine to 11 minutes, in about a dozen bursts.\n",
        "The police have found a total of 47 firearms in his two houses and the hotel suite. Ms. Snyder said on Tuesday that almost all had been traced, and that they had been bought in Nevada, Utah, California and Texas.\n",
        "Mr. McCabe of the F.B.I. dismissed “dubious claims of responsibility” — a reference to statements from the Islamic State group claiming that the killer was one of its followers — and said that investigators are seeking “actual indicators of motive and intent.”\n",
        "A deeper portrait of the gunman’s life is emerging.\n",
        "Mr. Paddock could be imperious and demanding, expecting other people to wait on him, according to people who knew him. But his youngest brother said he was different with Ms. Danley.\n",
        "“She was probably one of the only people I’ve ever seen that he’d go out of his way to do a little thing for,” said Eric Paddock, who lives in Florida. “He went out of his way to be nice to her. This is not something Steve does — go out of his way.”\n",
        "The gunman was a professional gambler who routinely won and lost thousands of dollars at casinos in Reno and Las Vegas, which often provided him free rooms. “He was a math guy,” Eric Paddock said. “He could tell you off the top of his head what the odds were, down to a tenth of a percent on whatever machine he was playing.”\n",
        "Newsletter Sign Up Continue reading the main story Get the Morning Briefing by Email What you need to know to start your day, delivered to your inbox Monday through Friday. Please verify you're not a robot by clicking the box. Invalid email address. Please re-enter. You must select a newsletter to subscribe to. Sign Up You agree to receive occasional updates and special offers for The New York Times's products and services. Thank you for subscribing. An error has occurred. Please try again later. View all New York Times newsletters.\n",
        "Stephen Paddock was the eldest of four boys who grew up angry after their father vanished from their lives, but he was the least angry of the group, said another brother, Patrick Paddock. He said that for years, their mother, who struggled to support them on her own, hid from them the fact that their father, a bank robber, had gone to prison, so they had no idea where he was.\n",
        "“My brother was the most boring one in the family,” he said of Stephen. “He was the least violent one in the family, over a 30-year history, so it’s like, who?”\n",
        "He said he had not spoken with his oldest brother in 20 years, but would not say why.\n",
        "Stephen Paddock graduated from California State University, Northridge, a large public institution in the San Fernando Valley of Los Angeles, in 1977. Carmen Ramos Chandler, the university’s director of media relations, said that he had completed a degree in business administration.\n",
        "His work history was not completely clear. Mr. Paddock worked for the federal government for roughly 10 years, from 1975 to 1985, a spokeswoman for the Office of Personnel Management confirmed.\n",
        "Investigators unearthed multiple job applications, with Mr. Paddock’s fingerprints on file, as part of records reflecting his employment as a letter carrier for the Postal Service in the mid 1970s; as an Internal Revenue Service agent from 1978 to 1984; and as an auditor focused on defense contracts, a job he held until 1985. He also worked in the 1980s for one of the companies that later combined to form Lockheed Martin, the aerospace contractor. \"\"\")"
      ]
    },
    {
      "cell_type": "code",
      "execution_count": 61,
      "metadata": {
        "colab": {
          "base_uri": "https://localhost:8080/"
        },
        "id": "54I9QsOtotkR",
        "outputId": "163fcef7-1940-4228-9dda-639d12b310b4"
      },
      "outputs": [
        {
          "name": "stdout",
          "output_type": "stream",
          "text": [
            "Unreliable\n"
          ]
        }
      ],
      "source": [
        "if val == [0]:\n",
        "  print('Reliable')\n",
        "else:\n",
        "  print('Unreliable')"
      ]
    },
    {
      "cell_type": "code",
      "execution_count": null,
      "metadata": {},
      "outputs": [],
      "source": []
    }
  ],
  "metadata": {
    "colab": {
      "provenance": []
    },
    "kernelspec": {
      "display_name": "Python 3",
      "name": "python3"
    },
    "language_info": {
      "codemirror_mode": {
        "name": "ipython",
        "version": 3
      },
      "file_extension": ".py",
      "mimetype": "text/x-python",
      "name": "python",
      "nbconvert_exporter": "python",
      "pygments_lexer": "ipython3",
      "version": "3.12.0"
    }
  },
  "nbformat": 4,
  "nbformat_minor": 0
}
